{
 "cells": [
  {
   "cell_type": "code",
   "execution_count": 1,
   "id": "ef8cd515",
   "metadata": {},
   "outputs": [],
   "source": [
    "import torch as tc\n",
    "import torchvision as tv\n",
    "\n",
    "import numpy as np\n",
    "import imp\n",
    "import glob\n",
    "\n",
    "from PIL import Image\n",
    "\n",
    "import dataset\n",
    "\n",
    "imp.reload(dataset)\n",
    "\n",
    "device = tc.device(\"cuda:0\" if tc.cuda.is_available else \"cpu\")\n",
    "workers = 8"
   ]
  },
  {
   "cell_type": "code",
   "execution_count": 2,
   "id": "a4cee2a2",
   "metadata": {},
   "outputs": [],
   "source": [
    "device\n",
    "from matplotlib import pyplot as plt\n",
    "%matplotlib inline"
   ]
  },
  {
   "cell_type": "code",
   "execution_count": 3,
   "id": "adc02fee",
   "metadata": {},
   "outputs": [],
   "source": [
    "batch_size = 2\n",
    "channels, h, w = 3, 128, 128\n",
    "image = tc.randn(batch_size, channels, h, w)"
   ]
  },
  {
   "cell_type": "code",
   "execution_count": 4,
   "id": "46fa62a6",
   "metadata": {},
   "outputs": [],
   "source": [
    "transform_train= tv.transforms.Compose([\n",
    "        tv.transforms.Resize((h, w)),\n",
    "        tv.transforms.RandomAffine(5, translate=(0.2, 0.2), scale=None, shear=None),\n",
    "        tv.transforms.ToTensor(),\n",
    "        tv.transforms.Normalize((0.1307,), (0.3081,))\n",
    "        ])\n",
    "    \n",
    "transform= tv.transforms.Compose([\n",
    "        tv.transforms.Resize((h, w)),\n",
    "        tv.transforms.ToTensor(),\n",
    "        tv.transforms.Normalize((0.1307,), (0.3081,))\n",
    "        ])\n"
   ]
  },
  {
   "cell_type": "code",
   "execution_count": 5,
   "id": "0fccfed4",
   "metadata": {},
   "outputs": [
    {
     "data": {
      "text/plain": [
       "'/home/anh/workspace/vr-stereoscopic'"
      ]
     },
     "execution_count": 5,
     "metadata": {},
     "output_type": "execute_result"
    }
   ],
   "source": [
    "pwd"
   ]
  },
  {
   "cell_type": "code",
   "execution_count": 13,
   "id": "585c6566",
   "metadata": {},
   "outputs": [],
   "source": [
    "#TODO: given input path, read all video list and framelist\n",
    "# return: directory of vidnames, framenames, number of frame, number of videos\n",
    "\n",
    "filepath = './dataset/'\n",
    "dsreader1 = dataset.StereoReader(filepath, transform_train)\n",
    "dsreader2 = dataset.StereoReader(filepath, transform)\n",
    "\n",
    "#vid_filepath_list = glob.glob(filepath + '/*')\n",
    "#vid_list = [item.split('/')[-1] for item in vid_filepath_list]\n",
    "\n",
    "train_loader = tc.utils.data.DataLoader(dsreader1, batch_size=batch_size,\n",
    "                                         shuffle=True, num_workers=workers)\n",
    "test_loader = tc.utils.data.DataLoader(dsreader2, batch_size=batch_size,\n",
    "                                         shuffle=True, num_workers=workers)"
   ]
  },
  {
   "cell_type": "code",
   "execution_count": 14,
   "id": "a191d3de",
   "metadata": {},
   "outputs": [],
   "source": [
    "img_list = dsreader1[3]"
   ]
  },
  {
   "cell_type": "code",
   "execution_count": 18,
   "id": "cf38b3ae",
   "metadata": {},
   "outputs": [
    {
     "data": {
      "text/plain": [
       "tensor(-134.5756)"
      ]
     },
     "execution_count": 18,
     "metadata": {},
     "output_type": "execute_result"
    }
   ],
   "source": [
    "(img_list[1] - img_list[2]).sum()"
   ]
  },
  {
   "cell_type": "code",
   "execution_count": null,
   "id": "3a201d6e",
   "metadata": {},
   "outputs": [],
   "source": []
  }
 ],
 "metadata": {
  "kernelspec": {
   "display_name": "env_pytorch",
   "language": "python",
   "name": "env_pytorch"
  },
  "language_info": {
   "codemirror_mode": {
    "name": "ipython",
    "version": 3
   },
   "file_extension": ".py",
   "mimetype": "text/x-python",
   "name": "python",
   "nbconvert_exporter": "python",
   "pygments_lexer": "ipython3",
   "version": "3.9.7"
  }
 },
 "nbformat": 4,
 "nbformat_minor": 5
}
