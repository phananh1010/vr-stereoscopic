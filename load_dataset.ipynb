{
 "cells": [
  {
   "cell_type": "code",
   "execution_count": 4,
   "id": "ea219e2a",
   "metadata": {},
   "outputs": [],
   "source": [
    "import torch as tc\n",
    "import torchvision as tv\n",
    "import numpy as np\n",
    "import imp\n",
    "\n",
    "device = tc.device(\"cuda:0\" if tc.cuda.is_available else \"cpu\")\n",
    "workers = 8"
   ]
  },
  {
   "cell_type": "code",
   "execution_count": 5,
   "id": "fc412cae",
   "metadata": {},
   "outputs": [
    {
     "data": {
      "text/plain": [
       "device(type='cuda', index=0)"
      ]
     },
     "execution_count": 5,
     "metadata": {},
     "output_type": "execute_result"
    }
   ],
   "source": [
    "device"
   ]
  },
  {
   "cell_type": "code",
   "execution_count": 7,
   "id": "ad35aba6",
   "metadata": {},
   "outputs": [],
   "source": [
    "batch_size = 2\n",
    "channels, h, w = 3, 128, 128\n",
    "image = tc.randn(batch_size, channels, h, w)"
   ]
  },
  {
   "cell_type": "code",
   "execution_count": null,
   "id": "1934c413",
   "metadata": {},
   "outputs": [],
   "source": [
    "transform_train= tv.transforms.Compose([\n",
    "        tv.transforms.Resize((h, w)),\n",
    "        tv.transforms.RandomAffine(5, translate=(0.2, 0.2), scale=None, shear=None),\n",
    "        tv.transforms.ToTensor(),\n",
    "        tv.transforms.Normalize((0.1307,), (0.3081,))\n",
    "        ])\n",
    "    \n",
    "transform= tv.transforms.Compose([\n",
    "        tv.transforms.Resize((h, w)),\n",
    "        tv.transforms.ToTensor(),\n",
    "        tv.transforms.Normalize((0.1307,), (0.3081,))\n",
    "        ])\n"
   ]
  }
 ],
 "metadata": {
  "kernelspec": {
   "display_name": "env_pytorch",
   "language": "python",
   "name": "env_pytorch"
  },
  "language_info": {
   "codemirror_mode": {
    "name": "ipython",
    "version": 3
   },
   "file_extension": ".py",
   "mimetype": "text/x-python",
   "name": "python",
   "nbconvert_exporter": "python",
   "pygments_lexer": "ipython3",
   "version": "3.9.7"
  }
 },
 "nbformat": 4,
 "nbformat_minor": 5
}
